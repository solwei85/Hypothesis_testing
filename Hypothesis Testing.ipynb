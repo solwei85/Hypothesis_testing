{
 "cells": [
  {
   "cell_type": "markdown",
   "id": "e6a735a3",
   "metadata": {},
   "source": [
    "Sprint 8 Tarea 1"
   ]
  },
  {
   "cell_type": "code",
   "execution_count": 1,
   "id": "6a67088c",
   "metadata": {},
   "outputs": [],
   "source": [
    "import numpy as np\n",
    "import pandas as pd\n",
    "import scipy.stats as stats\n",
    "import math"
   ]
  },
  {
   "cell_type": "code",
   "execution_count": 2,
   "id": "2e0e9457",
   "metadata": {},
   "outputs": [
    {
     "data": {
      "text/html": [
       "<div>\n",
       "<style scoped>\n",
       "    .dataframe tbody tr th:only-of-type {\n",
       "        vertical-align: middle;\n",
       "    }\n",
       "\n",
       "    .dataframe tbody tr th {\n",
       "        vertical-align: top;\n",
       "    }\n",
       "\n",
       "    .dataframe thead th {\n",
       "        text-align: right;\n",
       "    }\n",
       "</style>\n",
       "<table border=\"1\" class=\"dataframe\">\n",
       "  <thead>\n",
       "    <tr style=\"text-align: right;\">\n",
       "      <th></th>\n",
       "      <th>id</th>\n",
       "      <th>name</th>\n",
       "      <th>nationality</th>\n",
       "      <th>sex</th>\n",
       "      <th>dob</th>\n",
       "      <th>height</th>\n",
       "      <th>weight</th>\n",
       "      <th>sport</th>\n",
       "      <th>gold</th>\n",
       "      <th>silver</th>\n",
       "      <th>bronze</th>\n",
       "    </tr>\n",
       "  </thead>\n",
       "  <tbody>\n",
       "    <tr>\n",
       "      <th>0</th>\n",
       "      <td>736041664</td>\n",
       "      <td>A Jesus Garcia</td>\n",
       "      <td>ESP</td>\n",
       "      <td>male</td>\n",
       "      <td>10/17/69</td>\n",
       "      <td>1.72</td>\n",
       "      <td>64.0</td>\n",
       "      <td>athletics</td>\n",
       "      <td>0</td>\n",
       "      <td>0</td>\n",
       "      <td>0</td>\n",
       "    </tr>\n",
       "    <tr>\n",
       "      <th>1</th>\n",
       "      <td>532037425</td>\n",
       "      <td>A Lam Shin</td>\n",
       "      <td>KOR</td>\n",
       "      <td>female</td>\n",
       "      <td>9/23/86</td>\n",
       "      <td>1.68</td>\n",
       "      <td>56.0</td>\n",
       "      <td>fencing</td>\n",
       "      <td>0</td>\n",
       "      <td>0</td>\n",
       "      <td>0</td>\n",
       "    </tr>\n",
       "    <tr>\n",
       "      <th>2</th>\n",
       "      <td>435962603</td>\n",
       "      <td>Aaron Brown</td>\n",
       "      <td>CAN</td>\n",
       "      <td>male</td>\n",
       "      <td>5/27/92</td>\n",
       "      <td>1.98</td>\n",
       "      <td>79.0</td>\n",
       "      <td>athletics</td>\n",
       "      <td>0</td>\n",
       "      <td>0</td>\n",
       "      <td>1</td>\n",
       "    </tr>\n",
       "    <tr>\n",
       "      <th>3</th>\n",
       "      <td>521041435</td>\n",
       "      <td>Aaron Cook</td>\n",
       "      <td>MDA</td>\n",
       "      <td>male</td>\n",
       "      <td>1/2/91</td>\n",
       "      <td>1.83</td>\n",
       "      <td>80.0</td>\n",
       "      <td>taekwondo</td>\n",
       "      <td>0</td>\n",
       "      <td>0</td>\n",
       "      <td>0</td>\n",
       "    </tr>\n",
       "    <tr>\n",
       "      <th>4</th>\n",
       "      <td>33922579</td>\n",
       "      <td>Aaron Gate</td>\n",
       "      <td>NZL</td>\n",
       "      <td>male</td>\n",
       "      <td>11/26/90</td>\n",
       "      <td>1.81</td>\n",
       "      <td>71.0</td>\n",
       "      <td>cycling</td>\n",
       "      <td>0</td>\n",
       "      <td>0</td>\n",
       "      <td>0</td>\n",
       "    </tr>\n",
       "  </tbody>\n",
       "</table>\n",
       "</div>"
      ],
      "text/plain": [
       "          id            name nationality     sex       dob  height  weight  \\\n",
       "0  736041664  A Jesus Garcia         ESP    male  10/17/69    1.72    64.0   \n",
       "1  532037425      A Lam Shin         KOR  female   9/23/86    1.68    56.0   \n",
       "2  435962603     Aaron Brown         CAN    male   5/27/92    1.98    79.0   \n",
       "3  521041435      Aaron Cook         MDA    male    1/2/91    1.83    80.0   \n",
       "4   33922579      Aaron Gate         NZL    male  11/26/90    1.81    71.0   \n",
       "\n",
       "       sport  gold  silver  bronze  \n",
       "0  athletics     0       0       0  \n",
       "1    fencing     0       0       0  \n",
       "2  athletics     0       0       1  \n",
       "3  taekwondo     0       0       0  \n",
       "4    cycling     0       0       0  "
      ]
     },
     "execution_count": 2,
     "metadata": {},
     "output_type": "execute_result"
    }
   ],
   "source": [
    "df= pd.read_csv(\"athletes.csv\")\n",
    "df.head()"
   ]
  },
  {
   "cell_type": "code",
   "execution_count": 3,
   "id": "b7fa3110",
   "metadata": {},
   "outputs": [],
   "source": [
    "#recordamos del ejercicio anterior que habia unas filas sin información para altura y peso\n",
    "#las eliminamos\n",
    "df_clean= df.dropna(subset=[\"height\", \"weight\"])"
   ]
  },
  {
   "cell_type": "code",
   "execution_count": 4,
   "id": "70c07123",
   "metadata": {},
   "outputs": [
    {
     "name": "stdout",
     "output_type": "stream",
     "text": [
      "<class 'pandas.core.frame.DataFrame'>\n",
      "Int64Index: 10858 entries, 0 to 11537\n",
      "Data columns (total 11 columns):\n",
      " #   Column       Non-Null Count  Dtype  \n",
      "---  ------       --------------  -----  \n",
      " 0   id           10858 non-null  int64  \n",
      " 1   name         10858 non-null  object \n",
      " 2   nationality  10858 non-null  object \n",
      " 3   sex          10858 non-null  object \n",
      " 4   dob          10858 non-null  object \n",
      " 5   height       10858 non-null  float64\n",
      " 6   weight       10858 non-null  float64\n",
      " 7   sport        10858 non-null  object \n",
      " 8   gold         10858 non-null  int64  \n",
      " 9   silver       10858 non-null  int64  \n",
      " 10  bronze       10858 non-null  int64  \n",
      "dtypes: float64(2), int64(4), object(5)\n",
      "memory usage: 1017.9+ KB\n"
     ]
    }
   ],
   "source": [
    "df_clean.info()"
   ]
  },
  {
   "cell_type": "code",
   "execution_count": 5,
   "id": "1e20fb3f",
   "metadata": {},
   "outputs": [
    {
     "data": {
      "text/plain": [
       "1.7669423466568404"
      ]
     },
     "execution_count": 5,
     "metadata": {},
     "output_type": "execute_result"
    }
   ],
   "source": [
    "df_clean[\"height\"].mean()"
   ]
  },
  {
   "cell_type": "code",
   "execution_count": 6,
   "id": "78473938",
   "metadata": {},
   "outputs": [
    {
     "data": {
      "text/plain": [
       "1.7697419354838695"
      ]
     },
     "execution_count": 6,
     "metadata": {},
     "output_type": "execute_result"
    }
   ],
   "source": [
    "df_clean[df_clean.nationality==\"ESP\"].height.mean()"
   ]
  },
  {
   "cell_type": "code",
   "execution_count": 7,
   "id": "c66e1ed5",
   "metadata": {},
   "outputs": [],
   "source": [
    "#vamos a comparar si hay una diferencia significativa a 5% \n",
    "#entre las alturas de atletas olimpicos general vs atletas españoles\n",
    "#H0= no hay diferencia, H1= hay diferencia."
   ]
  },
  {
   "cell_type": "code",
   "execution_count": 8,
   "id": "28dd452f",
   "metadata": {},
   "outputs": [],
   "source": [
    "p_value= stats.ttest_1samp(a=df_clean[\"height\"], \n",
    "                           popmean= df_clean[df_clean.nationality==\"ESP\"].height.mean())"
   ]
  },
  {
   "cell_type": "code",
   "execution_count": 9,
   "id": "e33d63be",
   "metadata": {},
   "outputs": [
    {
     "data": {
      "text/plain": [
       "Ttest_1sampResult(statistic=-2.5790700583116313, pvalue=0.00991970472523183)"
      ]
     },
     "execution_count": 9,
     "metadata": {},
     "output_type": "execute_result"
    }
   ],
   "source": [
    "p_value"
   ]
  },
  {
   "cell_type": "code",
   "execution_count": 14,
   "id": "5edf2291",
   "metadata": {},
   "outputs": [],
   "source": [
    "#como p-value (0.0099) es menor que 1/2 alfa (0.025), rechazamos H0\n",
    "#1/2 alfa porque estamos comparando si es diferente (2 tail test)\n",
    "#Pareciera haber diferencia significativa entre las altura de los atletas generales y los atletas españoles."
   ]
  },
  {
   "cell_type": "code",
   "execution_count": 10,
   "id": "023ae607",
   "metadata": {},
   "outputs": [],
   "source": [
    "#ahora vamos a comparar si hay una diferencia significativa a 5% \n",
    "#entre el peso de los atletas olimpicos general vs atletas españoles vs canadienses\n",
    "#H0= no hay diferencia, H1= hay diferencia."
   ]
  },
  {
   "cell_type": "code",
   "execution_count": 11,
   "id": "12bdd3a5",
   "metadata": {},
   "outputs": [],
   "source": [
    "weight_pop= df_clean[\"weight\"]\n",
    "weight_SPA= df_clean[df_clean.nationality==\"ESP\"].weight\n",
    "weight_CAN= df_clean[df_clean.nationality==\"CAN\"].weight"
   ]
  },
  {
   "cell_type": "code",
   "execution_count": 12,
   "id": "2cbba7ec",
   "metadata": {},
   "outputs": [],
   "source": [
    "anova_weight= stats.f_oneway(weight_pop, weight_SPA, weight_CAN)"
   ]
  },
  {
   "cell_type": "code",
   "execution_count": 13,
   "id": "2c5108a5",
   "metadata": {},
   "outputs": [
    {
     "data": {
      "text/plain": [
       "F_onewayResult(statistic=2.499371758014883, pvalue=0.08218127021452216)"
      ]
     },
     "execution_count": 13,
     "metadata": {},
     "output_type": "execute_result"
    }
   ],
   "source": [
    "anova_weight"
   ]
  },
  {
   "cell_type": "code",
   "execution_count": 14,
   "id": "3e43524e",
   "metadata": {},
   "outputs": [],
   "source": [
    "#como p-value (0.0822) es mayor que 1/2 alfa (0.025), rechazamos H1\n",
    "#Pareciera no haber diferencia significativa entre los pesos de los atletas generales,\n",
    "#españoles y canadienses."
   ]
  },
  {
   "cell_type": "code",
   "execution_count": 19,
   "id": "3c895386",
   "metadata": {},
   "outputs": [],
   "source": [
    "#En el ultimo ejercicio, vamos a comparar 3 atributos. También usaremos ANOVA.\n",
    "#Compararemos la altura entre diferentes deportes, ej: atletismo, esgrima y ciclismo.\n",
    "#H0= no hay diferencia, H1= hay diferencia."
   ]
  },
  {
   "cell_type": "code",
   "execution_count": 16,
   "id": "df61043e",
   "metadata": {},
   "outputs": [],
   "source": [
    "df_clean2= df_clean.dropna(subset=[\"sport\"])"
   ]
  },
  {
   "cell_type": "code",
   "execution_count": 17,
   "id": "5d4cdd2b",
   "metadata": {},
   "outputs": [
    {
     "name": "stdout",
     "output_type": "stream",
     "text": [
      "<class 'pandas.core.frame.DataFrame'>\n",
      "Int64Index: 10858 entries, 0 to 11537\n",
      "Data columns (total 11 columns):\n",
      " #   Column       Non-Null Count  Dtype  \n",
      "---  ------       --------------  -----  \n",
      " 0   id           10858 non-null  int64  \n",
      " 1   name         10858 non-null  object \n",
      " 2   nationality  10858 non-null  object \n",
      " 3   sex          10858 non-null  object \n",
      " 4   dob          10858 non-null  object \n",
      " 5   height       10858 non-null  float64\n",
      " 6   weight       10858 non-null  float64\n",
      " 7   sport        10858 non-null  object \n",
      " 8   gold         10858 non-null  int64  \n",
      " 9   silver       10858 non-null  int64  \n",
      " 10  bronze       10858 non-null  int64  \n",
      "dtypes: float64(2), int64(4), object(5)\n",
      "memory usage: 1017.9+ KB\n"
     ]
    }
   ],
   "source": [
    "df_clean2.info()"
   ]
  },
  {
   "cell_type": "code",
   "execution_count": 18,
   "id": "bdc5c809",
   "metadata": {},
   "outputs": [],
   "source": [
    "height_ath= df_clean2[df_clean2.sport==\"athletics\"].height\n",
    "height_fen= df_clean2[df_clean2.sport==\"fencing\"].height\n",
    "height_cyc= df_clean2[df_clean2.sport==\"cycling\"].height"
   ]
  },
  {
   "cell_type": "code",
   "execution_count": 20,
   "id": "188e154b",
   "metadata": {},
   "outputs": [],
   "source": [
    "anova_height= stats.f_oneway(height_ath, height_fen, height_cyc)"
   ]
  },
  {
   "cell_type": "code",
   "execution_count": 21,
   "id": "72de51e8",
   "metadata": {},
   "outputs": [
    {
     "data": {
      "text/plain": [
       "F_onewayResult(statistic=5.431570297546887, pvalue=0.004420380027812341)"
      ]
     },
     "execution_count": 21,
     "metadata": {},
     "output_type": "execute_result"
    }
   ],
   "source": [
    "anova_height"
   ]
  },
  {
   "cell_type": "code",
   "execution_count": 22,
   "id": "1451bcc6",
   "metadata": {},
   "outputs": [],
   "source": [
    "#como p-value (0.0044) es menor que 1/2 alfa (0.025), rechazamos H0\n",
    "#Pareciera haber diferencia significativa entre las alturas de los atletas en\n",
    "#atletismo, esgrima y ciclismo."
   ]
  },
  {
   "cell_type": "code",
   "execution_count": null,
   "id": "0f1466e7",
   "metadata": {},
   "outputs": [],
   "source": []
  }
 ],
 "metadata": {
  "kernelspec": {
   "display_name": "Python 3",
   "language": "python",
   "name": "python3"
  },
  "language_info": {
   "codemirror_mode": {
    "name": "ipython",
    "version": 3
   },
   "file_extension": ".py",
   "mimetype": "text/x-python",
   "name": "python",
   "nbconvert_exporter": "python",
   "pygments_lexer": "ipython3",
   "version": "3.8.8"
  },
  "latex_envs": {
   "LaTeX_envs_menu_present": true,
   "autoclose": false,
   "autocomplete": true,
   "bibliofile": "biblio.bib",
   "cite_by": "apalike",
   "current_citInitial": 1,
   "eqLabelWithNumbers": true,
   "eqNumInitial": 1,
   "hotkeys": {
    "equation": "Ctrl-E",
    "itemize": "Ctrl-I"
   },
   "labels_anchors": false,
   "latex_user_defs": false,
   "report_style_numbering": false,
   "user_envs_cfg": false
  }
 },
 "nbformat": 4,
 "nbformat_minor": 5
}
